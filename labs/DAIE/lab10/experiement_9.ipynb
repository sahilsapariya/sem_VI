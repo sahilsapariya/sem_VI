{
 "cells": [
  {
   "cell_type": "markdown",
   "id": "a89cbbf1",
   "metadata": {},
   "source": [
    "# Experiment 9\n",
    "__AIM:__ To perform text mining using textblob in python (TF-IDF generation, sentiment analysis, word-cloud, POS tagging)"
   ]
  },
  {
   "cell_type": "code",
   "execution_count": 52,
   "id": "58ce48fd",
   "metadata": {},
   "outputs": [],
   "source": [
    "from textblob import TextBlob, Word"
   ]
  },
  {
   "cell_type": "code",
   "execution_count": 6,
   "id": "bab0de2e",
   "metadata": {},
   "outputs": [],
   "source": [
    "feedback1 = \"ddu is very good college\"\n",
    "feedback2 = \"ddu is not very good college\"\n",
    "feedback3 = \"weather is really good today! sunshine is here\""
   ]
  },
  {
   "cell_type": "code",
   "execution_count": 7,
   "id": "5b80c0cb",
   "metadata": {},
   "outputs": [],
   "source": [
    "blob1 = TextBlob(feedback1)\n",
    "blob2 = TextBlob(feedback2)\n",
    "blob3 = TextBlob(feedback3)"
   ]
  },
  {
   "cell_type": "code",
   "execution_count": 9,
   "id": "e9b3397c",
   "metadata": {},
   "outputs": [
    {
     "data": {
      "text/plain": [
       "Sentiment(polarity=0.9099999999999999, subjectivity=0.7800000000000001)"
      ]
     },
     "execution_count": 9,
     "metadata": {},
     "output_type": "execute_result"
    }
   ],
   "source": [
    "blob1.sentiment"
   ]
  },
  {
   "cell_type": "code",
   "execution_count": 10,
   "id": "b23d6883",
   "metadata": {},
   "outputs": [
    {
     "data": {
      "text/plain": [
       "Sentiment(polarity=-0.26923076923076916, subjectivity=0.46153846153846156)"
      ]
     },
     "execution_count": 10,
     "metadata": {},
     "output_type": "execute_result"
    }
   ],
   "source": [
    "blob2.sentiment"
   ]
  },
  {
   "cell_type": "code",
   "execution_count": 11,
   "id": "7a59bb3c",
   "metadata": {},
   "outputs": [
    {
     "data": {
      "text/plain": [
       "Sentiment(polarity=0.875, subjectivity=0.6000000000000001)"
      ]
     },
     "execution_count": 11,
     "metadata": {},
     "output_type": "execute_result"
    }
   ],
   "source": [
    "blob3.sentiment"
   ]
  },
  {
   "cell_type": "code",
   "execution_count": 12,
   "id": "db06a9db",
   "metadata": {},
   "outputs": [],
   "source": [
    "blob = TextBlob(\"\"\" This could be a multiline text or paragraph from the wikipedia\n",
    "                \n",
    "                or something else what ever you like.\n",
    "                Good Bye.\n",
    "                \"\"\")"
   ]
  },
  {
   "cell_type": "code",
   "execution_count": 13,
   "id": "b260f00a",
   "metadata": {},
   "outputs": [
    {
     "data": {
      "text/plain": [
       "TextBlob(\" His could be a multiline text or paragraph from the wikipedia\n",
       "                \n",
       "                or something else what ever you like.\n",
       "                Good Eye.\n",
       "                \")"
      ]
     },
     "execution_count": 13,
     "metadata": {},
     "output_type": "execute_result"
    }
   ],
   "source": [
    "blob.correct()"
   ]
  },
  {
   "cell_type": "code",
   "execution_count": 20,
   "id": "54c15326",
   "metadata": {},
   "outputs": [
    {
     "name": "stdout",
     "output_type": "stream",
     "text": [
      "Requirement already satisfied: nltk in /Users/sahilsapariya/anaconda3/lib/python3.11/site-packages (3.8.1)\n",
      "Requirement already satisfied: click in /Users/sahilsapariya/anaconda3/lib/python3.11/site-packages (from nltk) (8.0.4)\n",
      "Requirement already satisfied: joblib in /Users/sahilsapariya/anaconda3/lib/python3.11/site-packages (from nltk) (1.2.0)\n",
      "Requirement already satisfied: regex>=2021.8.3 in /Users/sahilsapariya/anaconda3/lib/python3.11/site-packages (from nltk) (2022.7.9)\n",
      "Requirement already satisfied: tqdm in /Users/sahilsapariya/anaconda3/lib/python3.11/site-packages (from nltk) (4.65.0)\n",
      "Note: you may need to restart the kernel to use updated packages.\n"
     ]
    }
   ],
   "source": [
    "pip install nltk"
   ]
  },
  {
   "cell_type": "code",
   "execution_count": 23,
   "id": "90806c27",
   "metadata": {},
   "outputs": [
    {
     "name": "stderr",
     "output_type": "stream",
     "text": [
      "[nltk_data] Downloading package punkt to\n",
      "[nltk_data]     /Users/sahilsapariya/nltk_data...\n",
      "[nltk_data]   Package punkt is already up-to-date!\n",
      "[nltk_data] Downloading package averaged_perceptron_tagger to\n",
      "[nltk_data]     /Users/sahilsapariya/nltk_data...\n",
      "[nltk_data]   Unzipping taggers/averaged_perceptron_tagger.zip.\n",
      "[nltk_data] Downloading package stopwords to\n",
      "[nltk_data]     /Users/sahilsapariya/nltk_data...\n",
      "[nltk_data]   Package stopwords is already up-to-date!\n"
     ]
    },
    {
     "data": {
      "text/plain": [
       "True"
      ]
     },
     "execution_count": 23,
     "metadata": {},
     "output_type": "execute_result"
    }
   ],
   "source": [
    "import nltk\n",
    "nltk.download('punkt')\n",
    "nltk.download('averaged_perceptron_tagger')\n",
    "nltk.download('stopwords')"
   ]
  },
  {
   "cell_type": "code",
   "execution_count": 27,
   "id": "e082d197",
   "metadata": {},
   "outputs": [
    {
     "data": {
      "text/plain": [
       "[('ddu', 'NN'),\n",
       " ('is', 'VBZ'),\n",
       " ('very', 'RB'),\n",
       " ('good', 'JJ'),\n",
       " ('college', 'NN')]"
      ]
     },
     "execution_count": 27,
     "metadata": {},
     "output_type": "execute_result"
    }
   ],
   "source": [
    "blob1.tags"
   ]
  },
  {
   "cell_type": "code",
   "execution_count": 28,
   "id": "67618873",
   "metadata": {},
   "outputs": [
    {
     "data": {
      "text/plain": [
       "[('ddu', 'NN'),\n",
       " ('is', 'VBZ'),\n",
       " ('not', 'RB'),\n",
       " ('very', 'RB'),\n",
       " ('good', 'JJ'),\n",
       " ('college', 'NN')]"
      ]
     },
     "execution_count": 28,
     "metadata": {},
     "output_type": "execute_result"
    }
   ],
   "source": [
    "blob2.tags"
   ]
  },
  {
   "cell_type": "code",
   "execution_count": 29,
   "id": "e6e0c1b9",
   "metadata": {},
   "outputs": [
    {
     "data": {
      "text/plain": [
       "[('weather', 'NN'),\n",
       " ('is', 'VBZ'),\n",
       " ('really', 'RB'),\n",
       " ('good', 'JJ'),\n",
       " ('today', 'NN'),\n",
       " ('sunshine', 'NN'),\n",
       " ('is', 'VBZ'),\n",
       " ('here', 'RB')]"
      ]
     },
     "execution_count": 29,
     "metadata": {},
     "output_type": "execute_result"
    }
   ],
   "source": [
    "blob3.tags"
   ]
  },
  {
   "cell_type": "code",
   "execution_count": 30,
   "id": "959976de",
   "metadata": {},
   "outputs": [
    {
     "data": {
      "text/plain": [
       "[('This', 'DT'),\n",
       " ('could', 'MD'),\n",
       " ('be', 'VB'),\n",
       " ('a', 'DT'),\n",
       " ('multiline', 'JJ'),\n",
       " ('text', 'NN'),\n",
       " ('or', 'CC'),\n",
       " ('paragraph', 'NN'),\n",
       " ('from', 'IN'),\n",
       " ('the', 'DT'),\n",
       " ('wikipedia', 'NN'),\n",
       " ('or', 'CC'),\n",
       " ('something', 'NN'),\n",
       " ('else', 'RB'),\n",
       " ('what', 'WP'),\n",
       " ('ever', 'RB'),\n",
       " ('you', 'PRP'),\n",
       " ('like', 'VBP'),\n",
       " ('Good', 'JJ'),\n",
       " ('Bye', 'NNP')]"
      ]
     },
     "execution_count": 30,
     "metadata": {},
     "output_type": "execute_result"
    }
   ],
   "source": [
    "blob.tags"
   ]
  },
  {
   "cell_type": "code",
   "execution_count": 35,
   "id": "dbb53bac",
   "metadata": {},
   "outputs": [
    {
     "name": "stderr",
     "output_type": "stream",
     "text": [
      "[nltk_data] Downloading package brown to\n",
      "[nltk_data]     /Users/sahilsapariya/nltk_data...\n",
      "[nltk_data]   Unzipping corpora/brown.zip.\n"
     ]
    },
    {
     "data": {
      "text/plain": [
       "True"
      ]
     },
     "execution_count": 35,
     "metadata": {},
     "output_type": "execute_result"
    }
   ],
   "source": [
    "nltk.download('brown')"
   ]
  },
  {
   "cell_type": "code",
   "execution_count": 37,
   "id": "41985104",
   "metadata": {},
   "outputs": [
    {
     "data": {
      "text/plain": [
       "WordList(['multiline text', 'bye'])"
      ]
     },
     "execution_count": 37,
     "metadata": {},
     "output_type": "execute_result"
    }
   ],
   "source": [
    "blob.noun_phrases"
   ]
  },
  {
   "cell_type": "code",
   "execution_count": 39,
   "id": "769b70d1",
   "metadata": {},
   "outputs": [
    {
     "data": {
      "text/plain": [
       "[Sentence(\" This could be a multiline text or paragraph from the wikipedia\n",
       "                 \n",
       "                 or something else what ever you like.\"),\n",
       " Sentence(\"Good Bye.\")]"
      ]
     },
     "execution_count": 39,
     "metadata": {},
     "output_type": "execute_result"
    }
   ],
   "source": [
    "blob.sentences"
   ]
  },
  {
   "cell_type": "code",
   "execution_count": 41,
   "id": "828c3b4c",
   "metadata": {},
   "outputs": [
    {
     "data": {
      "text/plain": [
       "WordList(['This', 'could', 'be', 'a', 'multiline', 'text', 'or', 'paragraph', 'from', 'the', 'wikipedia', 'or', 'something', 'else', 'what', 'ever', 'you', 'like', 'Good', 'Bye'])"
      ]
     },
     "execution_count": 41,
     "metadata": {},
     "output_type": "execute_result"
    }
   ],
   "source": [
    "blob.words"
   ]
  },
  {
   "cell_type": "code",
   "execution_count": 42,
   "id": "8613183f",
   "metadata": {},
   "outputs": [
    {
     "data": {
      "text/plain": [
       "defaultdict(int,\n",
       "            {'this': 1,\n",
       "             'could': 1,\n",
       "             'be': 1,\n",
       "             'a': 1,\n",
       "             'multiline': 1,\n",
       "             'text': 1,\n",
       "             'or': 2,\n",
       "             'paragraph': 1,\n",
       "             'from': 1,\n",
       "             'the': 1,\n",
       "             'wikipedia': 1,\n",
       "             'something': 1,\n",
       "             'else': 1,\n",
       "             'what': 1,\n",
       "             'ever': 1,\n",
       "             'you': 1,\n",
       "             'like': 1,\n",
       "             'good': 1,\n",
       "             'bye': 1})"
      ]
     },
     "execution_count": 42,
     "metadata": {},
     "output_type": "execute_result"
    }
   ],
   "source": [
    "blob.word_counts"
   ]
  },
  {
   "cell_type": "code",
   "execution_count": 47,
   "id": "6a6c8c1e",
   "metadata": {},
   "outputs": [
    {
     "ename": "SyntaxError",
     "evalue": "invalid syntax (2703859318.py, line 3)",
     "output_type": "error",
     "traceback": [
      "\u001b[0;36m  Cell \u001b[0;32mIn[47], line 3\u001b[0;36m\u001b[0m\n\u001b[0;31m    sentence[0].words[0]?.singularize()\u001b[0m\n\u001b[0m                        ^\u001b[0m\n\u001b[0;31mSyntaxError\u001b[0m\u001b[0;31m:\u001b[0m invalid syntax\n"
     ]
    }
   ],
   "source": [
    "for sentence in blob.sentences:\n",
    "    print(sentence.sentiment)"
   ]
  },
  {
   "cell_type": "code",
   "execution_count": 48,
   "id": "d248fbfc",
   "metadata": {},
   "outputs": [
    {
     "data": {
      "text/plain": [
       "'Thi'"
      ]
     },
     "execution_count": 48,
     "metadata": {},
     "output_type": "execute_result"
    }
   ],
   "source": [
    "blob.sentences[0].words[0].singularize()"
   ]
  },
  {
   "cell_type": "code",
   "execution_count": 50,
   "id": "e7570553",
   "metadata": {},
   "outputs": [
    {
     "data": {
      "text/plain": [
       "'likes'"
      ]
     },
     "execution_count": 50,
     "metadata": {},
     "output_type": "execute_result"
    }
   ],
   "source": [
    "blob.sentences[0].words[-1].pluralize()"
   ]
  },
  {
   "cell_type": "code",
   "execution_count": 58,
   "id": "d92e8756",
   "metadata": {},
   "outputs": [
    {
     "name": "stderr",
     "output_type": "stream",
     "text": [
      "[nltk_data] Downloading package wordnet to\n",
      "[nltk_data]     /Users/sahilsapariya/nltk_data...\n"
     ]
    },
    {
     "data": {
      "text/plain": [
       "True"
      ]
     },
     "execution_count": 58,
     "metadata": {},
     "output_type": "execute_result"
    }
   ],
   "source": [
    "nltk.download('wordnet')"
   ]
  },
  {
   "cell_type": "code",
   "execution_count": 59,
   "id": "a82fc377",
   "metadata": {},
   "outputs": [
    {
     "data": {
      "text/plain": [
       "'octop1'"
      ]
     },
     "execution_count": 59,
     "metadata": {},
     "output_type": "execute_result"
    }
   ],
   "source": [
    "w = Word(\"octop1\")\n",
    "w.lemmatize()"
   ]
  },
  {
   "cell_type": "code",
   "execution_count": 60,
   "id": "effe37fc",
   "metadata": {},
   "outputs": [
    {
     "data": {
      "text/plain": [
       "'octop1'"
      ]
     },
     "execution_count": 60,
     "metadata": {},
     "output_type": "execute_result"
    }
   ],
   "source": [
    "w.lemmatize(\"v\")"
   ]
  },
  {
   "cell_type": "code",
   "execution_count": 61,
   "id": "e5a82f87",
   "metadata": {},
   "outputs": [
    {
     "data": {
      "text/plain": [
       "['delighting the senses or exciting intellectual or emotional admiration',\n",
       " '(of weather) highly enjoyable']"
      ]
     },
     "execution_count": 61,
     "metadata": {},
     "output_type": "execute_result"
    }
   ],
   "source": [
    "Word(\"Beautiful\").definitions"
   ]
  },
  {
   "cell_type": "code",
   "execution_count": 64,
   "id": "235541c5",
   "metadata": {},
   "outputs": [
    {
     "data": {
      "text/plain": [
       "'running'"
      ]
     },
     "execution_count": 64,
     "metadata": {},
     "output_type": "execute_result"
    }
   ],
   "source": [
    "v = Word(\"running\")\n",
    "v.lemmatize()"
   ]
  },
  {
   "cell_type": "code",
   "execution_count": 65,
   "id": "d23022ac",
   "metadata": {},
   "outputs": [
    {
     "data": {
      "text/plain": [
       "'run'"
      ]
     },
     "execution_count": 65,
     "metadata": {},
     "output_type": "execute_result"
    }
   ],
   "source": [
    "v.lemmatize(\"v\")"
   ]
  },
  {
   "cell_type": "code",
   "execution_count": 66,
   "id": "33bb665b",
   "metadata": {},
   "outputs": [
    {
     "data": {
      "text/plain": [
       "'running'"
      ]
     },
     "execution_count": 66,
     "metadata": {},
     "output_type": "execute_result"
    }
   ],
   "source": [
    "v.lemmatize(\"n\")"
   ]
  },
  {
   "cell_type": "code",
   "execution_count": 70,
   "id": "4a0dd59a",
   "metadata": {},
   "outputs": [
    {
     "data": {
      "text/plain": [
       "'running'"
      ]
     },
     "execution_count": 70,
     "metadata": {},
     "output_type": "execute_result"
    }
   ],
   "source": [
    "v.lemmatize(\"r\")"
   ]
  },
  {
   "cell_type": "code",
   "execution_count": 74,
   "id": "87472231",
   "metadata": {},
   "outputs": [],
   "source": [
    "from textblob.wordnet import VERB, ADJ, ADV, NOUN"
   ]
  },
  {
   "cell_type": "code",
   "execution_count": 76,
   "id": "3259137e",
   "metadata": {},
   "outputs": [
    {
     "data": {
      "text/plain": [
       "[Synset('smart.a.01'),\n",
       " Synset('chic.s.01'),\n",
       " Synset('bright.s.03'),\n",
       " Synset('fresh.s.12'),\n",
       " Synset('smart.s.05'),\n",
       " Synset('smart.s.06'),\n",
       " Synset('smart.s.07')]"
      ]
     },
     "execution_count": 76,
     "metadata": {},
     "output_type": "execute_result"
    }
   ],
   "source": [
    "s = Word(\"Smart\")\n",
    "s.get_synsets(pos=ADJ)"
   ]
  }
 ],
 "metadata": {
  "kernelspec": {
   "display_name": "Python 3 (ipykernel)",
   "language": "python",
   "name": "python3"
  },
  "language_info": {
   "codemirror_mode": {
    "name": "ipython",
    "version": 3
   },
   "file_extension": ".py",
   "mimetype": "text/x-python",
   "name": "python",
   "nbconvert_exporter": "python",
   "pygments_lexer": "ipython3",
   "version": "3.11.5"
  }
 },
 "nbformat": 4,
 "nbformat_minor": 5
}

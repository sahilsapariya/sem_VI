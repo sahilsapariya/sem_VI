{
 "cells": [
  {
   "cell_type": "markdown",
   "id": "90f729bd",
   "metadata": {},
   "source": [
    "# Experiment 1\n",
    "\n",
    "__AIM:__ Introduction to python programming for data analytics"
   ]
  },
  {
   "cell_type": "markdown",
   "id": "74b3cee0",
   "metadata": {},
   "source": [
    "## Table of Contents\n",
    "\n",
    "1. [Variables and Data Types](#variables-and-data-types)\n",
    "2. [Operators](#operators)\n",
    "3. [Control Structures](#control-structures)\n",
    "4. [Functions](#functions)\n",
    "5. [Data Structures](#data-structures)\n",
    "6. [Input and Output](#input-and-output)\n",
    "7. [Modules and Packages](#modules-and-packages)"
   ]
  },
  {
   "cell_type": "markdown",
   "id": "ea71cab4",
   "metadata": {},
   "source": [
    "## 2. Variables and Data Types <a id='variables-and-data-types'></a>\n",
    "\n",
    "### Variables"
   ]
  },
  {
   "cell_type": "code",
   "execution_count": 2,
   "id": "effe6597",
   "metadata": {},
   "outputs": [],
   "source": [
    "# Variable assignment\n",
    "x = 5\n",
    "name = \"John\"\n",
    "\n",
    "# Numeric types\n",
    "integer_num = 10\n",
    "float_num = 3.14\n",
    "\n",
    "# Strings\n",
    "name = \"Alice\"\n",
    "sentence = 'Hello, World!'\n",
    "\n",
    "# Boolean\n",
    "is_python_fun = True"
   ]
  },
  {
   "cell_type": "markdown",
   "id": "ae46991b",
   "metadata": {},
   "source": [
    "## 3. Operators <a id='operators'></a>"
   ]
  },
  {
   "cell_type": "code",
   "execution_count": 3,
   "id": "41bb4b13",
   "metadata": {},
   "outputs": [],
   "source": [
    "# Arithmetic operators\n",
    "result = 10 + 5\n",
    "result = 10 - 5\n",
    "result = 10 * 5\n",
    "result = 10 / 5\n",
    "result = 10 % 3\n",
    "result = 10 ** 2\n",
    "\n",
    "# Comparison operators\n",
    "is_greater = 10 > 5\n",
    "is_equal = 10 == 5\n",
    "is_not_equal = 10 != 5\n",
    "\n",
    "# Logical operators\n",
    "and_condition = (10 > 5) and (5 < 3)\n",
    "or_condition = (10 > 5) or (5 < 3)\n",
    "not_condition = not (10 > 5)"
   ]
  },
  {
   "cell_type": "markdown",
   "id": "60b139ec",
   "metadata": {},
   "source": [
    "## 4. Control Structures <a id='control-structures'></a>"
   ]
  },
  {
   "cell_type": "code",
   "execution_count": 4,
   "id": "f98021e8",
   "metadata": {},
   "outputs": [
    {
     "name": "stdout",
     "output_type": "stream",
     "text": [
      "x is positive\n",
      "x is odd\n",
      "5\n",
      "4\n",
      "3\n",
      "2\n",
      "1\n",
      "0\n",
      "1\n",
      "2\n",
      "3\n",
      "4\n"
     ]
    }
   ],
   "source": [
    "# If statement\n",
    "if x > 0:\n",
    "    print(\"x is positive\")\n",
    "\n",
    "# If-else statement\n",
    "if x % 2 == 0:\n",
    "    print(\"x is even\")\n",
    "else:\n",
    "    print(\"x is odd\")\n",
    "\n",
    "# While loop\n",
    "while x > 0:\n",
    "    print(x)\n",
    "    x -= 1\n",
    "\n",
    "# For loop\n",
    "for i in range(5):\n",
    "    print(i)"
   ]
  },
  {
   "cell_type": "markdown",
   "id": "6bca1a09",
   "metadata": {},
   "source": [
    "## 5. Functions <a id='functions'></a>"
   ]
  },
  {
   "cell_type": "code",
   "execution_count": 5,
   "id": "5ead174d",
   "metadata": {},
   "outputs": [
    {
     "name": "stdout",
     "output_type": "stream",
     "text": [
      "Hello, Alice\n"
     ]
    }
   ],
   "source": [
    "# Function definition\n",
    "def greet(name):\n",
    "    print(\"Hello,\", name)\n",
    "\n",
    "# Function call\n",
    "greet(\"Alice\")"
   ]
  },
  {
   "cell_type": "markdown",
   "id": "559ad5e1",
   "metadata": {},
   "source": [
    "## 6. Data Structures <a id='data-structures'></a>"
   ]
  },
  {
   "cell_type": "code",
   "execution_count": 10,
   "id": "39dc91ee",
   "metadata": {},
   "outputs": [],
   "source": [
    "# Lists\n",
    "my_list = [1, 2, 3, 4, 5]\n",
    "\n",
    "# Tuples\n",
    "my_tuple = (1, 2, 3)\n",
    "\n",
    "# Dictionaries\n",
    "my_dict = {'a': 1, 'b': 2, 'c': 3}"
   ]
  },
  {
   "cell_type": "markdown",
   "id": "1f4a436e",
   "metadata": {},
   "source": [
    "## Operations on Lists\n",
    "### Accessing elements\n"
   ]
  },
  {
   "cell_type": "code",
   "execution_count": 11,
   "id": "7d296c8e",
   "metadata": {},
   "outputs": [
    {
     "name": "stdout",
     "output_type": "stream",
     "text": [
      "1\n",
      "5\n"
     ]
    }
   ],
   "source": [
    "print(my_list[0])  # Output: 1\n",
    "print(my_list[-1]) # Output: 5"
   ]
  },
  {
   "cell_type": "code",
   "execution_count": 12,
   "id": "576fc916",
   "metadata": {},
   "outputs": [
    {
     "name": "stdout",
     "output_type": "stream",
     "text": [
      "[2, 3]\n"
     ]
    }
   ],
   "source": [
    "# Slicing\n",
    "print(my_list[1:3]) # Output: [2, 3]"
   ]
  },
  {
   "cell_type": "code",
   "execution_count": 13,
   "id": "747e2b4c",
   "metadata": {},
   "outputs": [
    {
     "name": "stdout",
     "output_type": "stream",
     "text": [
      "[0, 2, 3, 4, 5]\n"
     ]
    }
   ],
   "source": [
    "# Modifying elements\n",
    "my_list[0] = 0\n",
    "print(my_list) # Output: [0, 2, 3, 4, 5]"
   ]
  },
  {
   "cell_type": "code",
   "execution_count": 14,
   "id": "88272cf9",
   "metadata": {},
   "outputs": [
    {
     "name": "stdout",
     "output_type": "stream",
     "text": [
      "[0, 2, 3, 4, 5, 6]\n"
     ]
    }
   ],
   "source": [
    "# Adding elements\n",
    "my_list.append(6)\n",
    "print(my_list) # Output: [0, 2, 3, 4, 5, 6]"
   ]
  },
  {
   "cell_type": "code",
   "execution_count": 15,
   "id": "2e77dc90",
   "metadata": {},
   "outputs": [
    {
     "name": "stdout",
     "output_type": "stream",
     "text": [
      "[0, 2, 4, 5, 6]\n"
     ]
    }
   ],
   "source": [
    "# Removing elements\n",
    "my_list.remove(3)\n",
    "print(my_list) # Output: [0, 2, 4, 5, 6]"
   ]
  },
  {
   "cell_type": "markdown",
   "id": "f2192ac6",
   "metadata": {},
   "source": [
    "### Operations on Tuple"
   ]
  },
  {
   "cell_type": "code",
   "execution_count": 16,
   "id": "831b3273",
   "metadata": {},
   "outputs": [
    {
     "name": "stdout",
     "output_type": "stream",
     "text": [
      "1\n"
     ]
    }
   ],
   "source": [
    "# Accessing elements\n",
    "print(my_tuple[0]) # Output: 1"
   ]
  },
  {
   "cell_type": "code",
   "execution_count": 17,
   "id": "ee110cc0",
   "metadata": {},
   "outputs": [
    {
     "name": "stdout",
     "output_type": "stream",
     "text": [
      "(2, 3)\n"
     ]
    }
   ],
   "source": [
    "# Slicing\n",
    "print(my_tuple[1:]) # Output: (2, 3)"
   ]
  },
  {
   "cell_type": "markdown",
   "id": "ff7cd26d",
   "metadata": {},
   "source": [
    "### Operations on Dictionaries"
   ]
  },
  {
   "cell_type": "code",
   "execution_count": 18,
   "id": "5ecc435a",
   "metadata": {},
   "outputs": [
    {
     "name": "stdout",
     "output_type": "stream",
     "text": [
      "1\n"
     ]
    }
   ],
   "source": [
    "# Accessing elements\n",
    "print(my_dict['a']) # Output: 1"
   ]
  },
  {
   "cell_type": "code",
   "execution_count": 19,
   "id": "0b16072a",
   "metadata": {},
   "outputs": [
    {
     "name": "stdout",
     "output_type": "stream",
     "text": [
      "{'a': 1, 'b': 2, 'c': 3, 'd': 4}\n"
     ]
    }
   ],
   "source": [
    "# Modifying elements\n",
    "my_dict['d'] = 4\n",
    "print(my_dict)"
   ]
  },
  {
   "cell_type": "code",
   "execution_count": 20,
   "id": "c77416d8",
   "metadata": {},
   "outputs": [
    {
     "name": "stdout",
     "output_type": "stream",
     "text": [
      "{'a': 1, 'c': 3, 'd': 4}\n"
     ]
    }
   ],
   "source": [
    "# Removing elements\n",
    "del my_dict['b']\n",
    "print(my_dict)"
   ]
  },
  {
   "cell_type": "markdown",
   "id": "8c3cde2c",
   "metadata": {},
   "source": [
    "## 7. Input and Output <a id='input-and-output'></a>"
   ]
  },
  {
   "cell_type": "code",
   "execution_count": 7,
   "id": "b1819c09",
   "metadata": {},
   "outputs": [
    {
     "name": "stdout",
     "output_type": "stream",
     "text": [
      "Enter your name: Sahil Sapariya\n",
      "Hello, Sahil Sapariya\n"
     ]
    }
   ],
   "source": [
    "# Input\n",
    "name = input(\"Enter your name: \")\n",
    "\n",
    "# Output\n",
    "print(\"Hello,\", name)"
   ]
  },
  {
   "cell_type": "markdown",
   "id": "8c52aac3",
   "metadata": {},
   "source": [
    "## 8. Modules and Packages <a id='modules-and-packages'></a>"
   ]
  },
  {
   "cell_type": "code",
   "execution_count": 9,
   "id": "d8148bd5",
   "metadata": {},
   "outputs": [
    {
     "name": "stdout",
     "output_type": "stream",
     "text": [
      "4.0\n"
     ]
    }
   ],
   "source": [
    "# Importing modules\n",
    "import math\n",
    "print(math.sqrt(16))"
   ]
  }
 ],
 "metadata": {
  "kernelspec": {
   "display_name": "Python 3 (ipykernel)",
   "language": "python",
   "name": "python3"
  },
  "language_info": {
   "codemirror_mode": {
    "name": "ipython",
    "version": 3
   },
   "file_extension": ".py",
   "mimetype": "text/x-python",
   "name": "python",
   "nbconvert_exporter": "python",
   "pygments_lexer": "ipython3",
   "version": "3.11.5"
  }
 },
 "nbformat": 4,
 "nbformat_minor": 5
}
